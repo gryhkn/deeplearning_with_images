{
 "cells": [
  {
   "cell_type": "markdown",
   "id": "alternative-payroll",
   "metadata": {},
   "source": [
    "# KNN Classifier"
   ]
  },
  {
   "cell_type": "markdown",
   "id": "compressed-north",
   "metadata": {},
   "source": [
    "* In this notebook we are going to classify dog-cat and pandas images. KNN(k-Nearest Neighbors Algorithm) is not a deep learning algoritm, and actually it is not learn anything. But it is really easy to understand and not requires lots of energy to implement. So, lets start."
   ]
  },
  {
   "attachments": {
    "image.png": {
     "image/png": "[encoded data removed]"
    }
   },
   "cell_type": "markdown",
   "id": "palestinian-communications",
   "metadata": {},
   "source": [
    "##### To get able to use this notebook,you have to download all images dataset. Of course you can use your private cat-dog-panda images too, but be sure that your images file format is i.e for cats should like this: cats_00001.jpg, cats_00002.jpg ....\n",
    "\n",
    "##### and folder format is:\n",
    "![image.png](attachment:image.png)\n",
    "\n",
    "##### If not, you probably can not use codes in this notebook without making changes."
   ]
  },
  {
   "cell_type": "markdown",
   "id": "matched-humidity",
   "metadata": {},
   "source": [
    "### Dataset is here: "
   ]
  },
  {
   "cell_type": "markdown",
   "id": "cleared-shooting",
   "metadata": {},
   "source": [
    "## Basic Image Preprocessor"
   ]
  },
  {
   "cell_type": "code",
   "execution_count": 1,
   "id": "steady-traveler",
   "metadata": {},
   "outputs": [],
   "source": [
    "import cv2 \n",
    "\n",
    "class SimplePreprocessor:\n",
    "    def __init__(self, width, height, inter=cv2.INTER_AREA):\n",
    "        #store the target image width, height and interpolation\n",
    "        #method used when resizing\n",
    "        self.width = width\n",
    "        self.height = height\n",
    "        self.inter = inter\n",
    "        \n",
    "    def preprocess(self, image):\n",
    "         #resize the image to a fixed size, igroring the aspect\n",
    "         # ration\n",
    "        return cv2.resize(image, (self.width, self.height),\n",
    "                         interpolation=self.inter)"
   ]
  },
  {
   "cell_type": "markdown",
   "id": "clean-settle",
   "metadata": {},
   "source": [
    "## Building Image Loader"
   ]
  },
  {
   "cell_type": "code",
   "execution_count": 2,
   "id": "hispanic-joseph",
   "metadata": {},
   "outputs": [],
   "source": [
    "import numpy as np\n",
    "import cv2\n",
    "import os\n",
    "\n",
    "class SimpleDatasetLoader:\n",
    "    def __init__(self, preprocessors=None):\n",
    "        # store the image preprocessor\n",
    "        self.preprocessors = preprocessors\n",
    "        \n",
    "        # if the preprocessors are None, initialize them\n",
    "        # as an empty list\n",
    "        if self.preprocessors is None:\n",
    "            self.preprocessors = []\n",
    "    \n",
    "    def load(self, imagePaths, verbose=-1):\n",
    "        # initialize the list of features and labels\n",
    "        data = []\n",
    "        labels = []\n",
    "        \n",
    "        # loop over the input images\n",
    "        for (i, imagePath) in enumerate(imagePaths):\n",
    "            # load the image and extract the class label assuming\n",
    "            # that our path has the following format:\n",
    "            # /path/to/dataset/{class}/{image}.jpg\n",
    "            image = cv2.imread(imagePath)\n",
    "            label = imagePath.split(os.path.sep)[-2]\n",
    "            \n",
    "            # check to see if our preprocessors are not None\n",
    "            if self.preprocessors is not None:\n",
    "                # loop over the preprocessors and apply each to\n",
    "                # the image\n",
    "                for p in self.preprocessors:\n",
    "                    image = p.preprocess(image)\n",
    "            \n",
    "            # treat our processed image as a \"feature vector\"\n",
    "            # by updating the data list followed by the labels\n",
    "            data.append(image)\n",
    "            labels.append(label)\n",
    "            \n",
    "            # show an update every 'verbose' images\n",
    "            if verbose > 0 and i > 0 and (i + 1) % verbose == 0:\n",
    "                print(\"[INFO] processed {}/{}\".format(i + 1,\n",
    "                     len(imagePath)))\n",
    "        #return a tuple of the data and labels\n",
    "        return (np.array(data), np.array(labels))"
   ]
  },
  {
   "cell_type": "markdown",
   "id": "banner-yesterday",
   "metadata": {},
   "source": [
    "## k-NN: A Simple Classifier"
   ]
  },
  {
   "cell_type": "markdown",
   "id": "latter-heater",
   "metadata": {},
   "source": [
    "* The k-Nearest Neighbor classifier is by far the most simple machine learning and image classification algorithm.\n",
    "In fact, it’s so simple that it doesn’t actually “learn” anything. Instead, this algorithm directly relies on the distance between feature vectors (which in our case, are the raw\n",
    "RGB pixel intensities of the images)."
   ]
  },
  {
   "cell_type": "code",
   "execution_count": 4,
   "id": "attached-essay",
   "metadata": {
    "scrolled": true
   },
   "outputs": [
    {
     "name": "stdout",
     "output_type": "stream",
     "text": [
      "[INFO] loading images...\n",
      "[INFO] processed 500/81\n",
      "[INFO] processed 1000/81\n",
      "[INFO] processed 1500/81\n",
      "[INFO] processed 2000/81\n",
      "[INFO] processed 2500/83\n",
      "[INFO] processed 3000/83\n",
      "[INFO] features matrix: 9.0MB\n",
      "[INFO] evaluating k-NN classifier...\n",
      "              precision    recall  f1-score   support\n",
      "\n",
      "        cats       0.39      0.56      0.46       262\n",
      "        dogs       0.40      0.46      0.43       249\n",
      "       panda       0.92      0.32      0.48       239\n",
      "\n",
      "    accuracy                           0.45       750\n",
      "   macro avg       0.57      0.45      0.45       750\n",
      "weighted avg       0.56      0.45      0.45       750\n",
      "\n"
     ]
    }
   ],
   "source": [
    "# import the necessary packages\n",
    "from sklearn.neighbors import KNeighborsClassifier\n",
    "from sklearn.preprocessing import LabelEncoder\n",
    "from sklearn.model_selection import train_test_split\n",
    "from sklearn.metrics import classification_report\n",
    "from imutils import paths\n",
    "\n",
    "\n",
    "# grab the list of images that we’ll be describing\n",
    "print(\"[INFO] loading images...\")\n",
    "imagePaths = list(paths.list_images(\"/media/data/E81A6D761A6D4324/UBUNTU 20.04/Ai/datasets/animals/\"))\n",
    "\n",
    "# initialize the image preprocessor, load the dataset from disk,\n",
    "# and reshape the data matrix\n",
    "sp = SimplePreprocessor(32, 32)\n",
    "sdl = SimpleDatasetLoader(preprocessors=[sp])\n",
    "(data, labels) = sdl.load(imagePaths, verbose=500)\n",
    "data = data.reshape((data.shape[0], 3072))\n",
    "\n",
    "# show some information on memory consumption of the images\n",
    "print(\"[INFO] features matrix: {:.1f}MB\".format(\n",
    "data.nbytes / (1024 * 1000.0)))\n",
    "\n",
    "# encode the labels as integers\n",
    "le = LabelEncoder()\n",
    "labels = le.fit_transform(labels)\n",
    "\n",
    "# partition the data into training and testing splits using 75% of\n",
    "# the data for training and the remaining 25% for testing\n",
    "(trainX, testX, trainY, testY) = train_test_split(data, labels,\n",
    "    test_size=0.25, random_state=42)\n",
    "\n",
    "# train and evaluate a k-NN classifier on the raw pixel intensities\n",
    "print(\"[INFO] evaluating k-NN classifier...\")\n",
    "model = KNeighborsClassifier(n_neighbors=3)\n",
    "model.fit(trainX, trainY)\n",
    "print(classification_report(testY, model.predict(testX),\n",
    "    target_names=le.classes_))"
   ]
  },
  {
   "cell_type": "markdown",
   "id": "aquatic-logistics",
   "metadata": {},
   "source": [
    "* This notebook based on Adrian Rosebrock's Deep Learning for Computer Vision with Python - Starter Bundle book.To more information please visit his website (https://www.pyimagesearch.com/ ).\n"
   ]
  }
 ],
 "metadata": {
  "kernelspec": {
   "display_name": "env_image",
   "language": "python",
   "name": "env_image"
  },
  "language_info": {
   "codemirror_mode": {
    "name": "ipython",
    "version": 3
   },
   "file_extension": ".py",
   "mimetype": "text/x-python",
   "name": "python",
   "nbconvert_exporter": "python",
   "pygments_lexer": "ipython3",
   "version": "3.8.5"
  }
 },
 "nbformat": 4,
 "nbformat_minor": 5
}
